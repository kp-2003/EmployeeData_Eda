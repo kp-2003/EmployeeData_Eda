{
 "cells": [
  {
   "cell_type": "markdown",
   "metadata": {},
   "source": [
    "## Introduction"
   ]
  },
  {
   "cell_type": "markdown",
   "metadata": {},
   "source": [
    "This project analyzes a comprehensive employee dataset to uncover insights on demographics, job characteristics, performance, and compensation. By exploring trends and relationships within the data, this project aims to inform data-driven decisions and optimize workforce development.This project helps us to analyze employees by their job title ,experience,promotions,education level etc....\n"
   ]
  },
  {
   "cell_type": "markdown",
   "metadata": {},
   "source": [
    "## Data Introduction"
   ]
  },
  {
   "cell_type": "code",
   "execution_count": 1,
   "metadata": {},
   "outputs": [
    {
     "data": {
      "text/html": [
       "<div>\n",
       "<style scoped>\n",
       "    .dataframe tbody tr th:only-of-type {\n",
       "        vertical-align: middle;\n",
       "    }\n",
       "\n",
       "    .dataframe tbody tr th {\n",
       "        vertical-align: top;\n",
       "    }\n",
       "\n",
       "    .dataframe thead th {\n",
       "        text-align: right;\n",
       "    }\n",
       "</style>\n",
       "<table border=\"1\" class=\"dataframe\">\n",
       "  <thead>\n",
       "    <tr style=\"text-align: right;\">\n",
       "      <th></th>\n",
       "      <th>Employee_ID</th>\n",
       "      <th>Age</th>\n",
       "      <th>Years_At_Company</th>\n",
       "      <th>Performance_Score</th>\n",
       "      <th>Monthly_Salary</th>\n",
       "      <th>Work_Hours_Per_Week</th>\n",
       "      <th>Projects_Handled</th>\n",
       "      <th>Overtime_Hours</th>\n",
       "      <th>Sick_Days</th>\n",
       "      <th>Remote_Work_Frequency</th>\n",
       "      <th>Team_Size</th>\n",
       "      <th>Training_Hours</th>\n",
       "      <th>Promotions</th>\n",
       "      <th>Employee_Satisfaction_Score</th>\n",
       "    </tr>\n",
       "  </thead>\n",
       "  <tbody>\n",
       "    <tr>\n",
       "      <th>count</th>\n",
       "      <td>100000.000000</td>\n",
       "      <td>100000.000000</td>\n",
       "      <td>100000.000000</td>\n",
       "      <td>100000.000000</td>\n",
       "      <td>100000.000000</td>\n",
       "      <td>100000.000000</td>\n",
       "      <td>100000.000000</td>\n",
       "      <td>100000.000000</td>\n",
       "      <td>100000.000000</td>\n",
       "      <td>100000.000000</td>\n",
       "      <td>100000.000000</td>\n",
       "      <td>100000.000000</td>\n",
       "      <td>100000.000000</td>\n",
       "      <td>100000.000000</td>\n",
       "    </tr>\n",
       "    <tr>\n",
       "      <th>mean</th>\n",
       "      <td>50000.500000</td>\n",
       "      <td>41.029410</td>\n",
       "      <td>4.476070</td>\n",
       "      <td>2.995430</td>\n",
       "      <td>6403.211000</td>\n",
       "      <td>44.956950</td>\n",
       "      <td>24.431170</td>\n",
       "      <td>14.514930</td>\n",
       "      <td>7.008550</td>\n",
       "      <td>50.090500</td>\n",
       "      <td>10.013560</td>\n",
       "      <td>49.506060</td>\n",
       "      <td>0.999720</td>\n",
       "      <td>2.999088</td>\n",
       "    </tr>\n",
       "    <tr>\n",
       "      <th>std</th>\n",
       "      <td>28867.657797</td>\n",
       "      <td>11.244121</td>\n",
       "      <td>2.869336</td>\n",
       "      <td>1.414726</td>\n",
       "      <td>1372.508717</td>\n",
       "      <td>8.942003</td>\n",
       "      <td>14.469584</td>\n",
       "      <td>8.664026</td>\n",
       "      <td>4.331591</td>\n",
       "      <td>35.351157</td>\n",
       "      <td>5.495405</td>\n",
       "      <td>28.890383</td>\n",
       "      <td>0.815872</td>\n",
       "      <td>1.150719</td>\n",
       "    </tr>\n",
       "    <tr>\n",
       "      <th>min</th>\n",
       "      <td>1.000000</td>\n",
       "      <td>22.000000</td>\n",
       "      <td>0.000000</td>\n",
       "      <td>1.000000</td>\n",
       "      <td>3850.000000</td>\n",
       "      <td>30.000000</td>\n",
       "      <td>0.000000</td>\n",
       "      <td>0.000000</td>\n",
       "      <td>0.000000</td>\n",
       "      <td>0.000000</td>\n",
       "      <td>1.000000</td>\n",
       "      <td>0.000000</td>\n",
       "      <td>0.000000</td>\n",
       "      <td>1.000000</td>\n",
       "    </tr>\n",
       "    <tr>\n",
       "      <th>25%</th>\n",
       "      <td>25000.750000</td>\n",
       "      <td>31.000000</td>\n",
       "      <td>2.000000</td>\n",
       "      <td>2.000000</td>\n",
       "      <td>5250.000000</td>\n",
       "      <td>37.000000</td>\n",
       "      <td>12.000000</td>\n",
       "      <td>7.000000</td>\n",
       "      <td>3.000000</td>\n",
       "      <td>25.000000</td>\n",
       "      <td>5.000000</td>\n",
       "      <td>25.000000</td>\n",
       "      <td>0.000000</td>\n",
       "      <td>2.010000</td>\n",
       "    </tr>\n",
       "    <tr>\n",
       "      <th>50%</th>\n",
       "      <td>50000.500000</td>\n",
       "      <td>41.000000</td>\n",
       "      <td>4.000000</td>\n",
       "      <td>3.000000</td>\n",
       "      <td>6500.000000</td>\n",
       "      <td>45.000000</td>\n",
       "      <td>24.000000</td>\n",
       "      <td>15.000000</td>\n",
       "      <td>7.000000</td>\n",
       "      <td>50.000000</td>\n",
       "      <td>10.000000</td>\n",
       "      <td>49.000000</td>\n",
       "      <td>1.000000</td>\n",
       "      <td>3.000000</td>\n",
       "    </tr>\n",
       "    <tr>\n",
       "      <th>75%</th>\n",
       "      <td>75000.250000</td>\n",
       "      <td>51.000000</td>\n",
       "      <td>7.000000</td>\n",
       "      <td>4.000000</td>\n",
       "      <td>7500.000000</td>\n",
       "      <td>53.000000</td>\n",
       "      <td>37.000000</td>\n",
       "      <td>22.000000</td>\n",
       "      <td>11.000000</td>\n",
       "      <td>75.000000</td>\n",
       "      <td>15.000000</td>\n",
       "      <td>75.000000</td>\n",
       "      <td>2.000000</td>\n",
       "      <td>3.990000</td>\n",
       "    </tr>\n",
       "    <tr>\n",
       "      <th>max</th>\n",
       "      <td>100000.000000</td>\n",
       "      <td>60.000000</td>\n",
       "      <td>10.000000</td>\n",
       "      <td>5.000000</td>\n",
       "      <td>9000.000000</td>\n",
       "      <td>60.000000</td>\n",
       "      <td>49.000000</td>\n",
       "      <td>29.000000</td>\n",
       "      <td>14.000000</td>\n",
       "      <td>100.000000</td>\n",
       "      <td>19.000000</td>\n",
       "      <td>99.000000</td>\n",
       "      <td>2.000000</td>\n",
       "      <td>5.000000</td>\n",
       "    </tr>\n",
       "  </tbody>\n",
       "</table>\n",
       "</div>"
      ],
      "text/plain": [
       "         Employee_ID            Age  Years_At_Company  Performance_Score  \\\n",
       "count  100000.000000  100000.000000     100000.000000      100000.000000   \n",
       "mean    50000.500000      41.029410          4.476070           2.995430   \n",
       "std     28867.657797      11.244121          2.869336           1.414726   \n",
       "min         1.000000      22.000000          0.000000           1.000000   \n",
       "25%     25000.750000      31.000000          2.000000           2.000000   \n",
       "50%     50000.500000      41.000000          4.000000           3.000000   \n",
       "75%     75000.250000      51.000000          7.000000           4.000000   \n",
       "max    100000.000000      60.000000         10.000000           5.000000   \n",
       "\n",
       "       Monthly_Salary  Work_Hours_Per_Week  Projects_Handled  Overtime_Hours  \\\n",
       "count   100000.000000        100000.000000     100000.000000   100000.000000   \n",
       "mean      6403.211000            44.956950         24.431170       14.514930   \n",
       "std       1372.508717             8.942003         14.469584        8.664026   \n",
       "min       3850.000000            30.000000          0.000000        0.000000   \n",
       "25%       5250.000000            37.000000         12.000000        7.000000   \n",
       "50%       6500.000000            45.000000         24.000000       15.000000   \n",
       "75%       7500.000000            53.000000         37.000000       22.000000   \n",
       "max       9000.000000            60.000000         49.000000       29.000000   \n",
       "\n",
       "           Sick_Days  Remote_Work_Frequency      Team_Size  Training_Hours  \\\n",
       "count  100000.000000          100000.000000  100000.000000   100000.000000   \n",
       "mean        7.008550              50.090500      10.013560       49.506060   \n",
       "std         4.331591              35.351157       5.495405       28.890383   \n",
       "min         0.000000               0.000000       1.000000        0.000000   \n",
       "25%         3.000000              25.000000       5.000000       25.000000   \n",
       "50%         7.000000              50.000000      10.000000       49.000000   \n",
       "75%        11.000000              75.000000      15.000000       75.000000   \n",
       "max        14.000000             100.000000      19.000000       99.000000   \n",
       "\n",
       "          Promotions  Employee_Satisfaction_Score  \n",
       "count  100000.000000                100000.000000  \n",
       "mean        0.999720                     2.999088  \n",
       "std         0.815872                     1.150719  \n",
       "min         0.000000                     1.000000  \n",
       "25%         0.000000                     2.010000  \n",
       "50%         1.000000                     3.000000  \n",
       "75%         2.000000                     3.990000  \n",
       "max         2.000000                     5.000000  "
      ]
     },
     "execution_count": 1,
     "metadata": {},
     "output_type": "execute_result"
    }
   ],
   "source": [
    "import pandas as pd \n",
    "df=pd.read_csv(\"Extended_Employee_Performance_and_Productivity_Data.csv\")\n",
    "df.describe()"
   ]
  },
  {
   "cell_type": "markdown",
   "metadata": {},
   "source": [
    "## Data intoduction"
   ]
  },
  {
   "cell_type": "code",
   "execution_count": 30,
   "metadata": {},
   "outputs": [
    {
     "name": "stdout",
     "output_type": "stream",
     "text": [
      "<class 'pandas.core.frame.DataFrame'>\n",
      "RangeIndex: 100000 entries, 0 to 99999\n",
      "Data columns (total 20 columns):\n",
      " #   Column                       Non-Null Count   Dtype  \n",
      "---  ------                       --------------   -----  \n",
      " 0   Employee_ID                  100000 non-null  int64  \n",
      " 1   Department                   100000 non-null  object \n",
      " 2   Gender                       100000 non-null  object \n",
      " 3   Age                          100000 non-null  int64  \n",
      " 4   Job_Title                    100000 non-null  object \n",
      " 5   Hire_Date                    100000 non-null  object \n",
      " 6   Years_At_Company             100000 non-null  int64  \n",
      " 7   Education_Level              100000 non-null  object \n",
      " 8   Performance_Score            100000 non-null  int64  \n",
      " 9   Monthly_Salary               100000 non-null  float64\n",
      " 10  Work_Hours_Per_Week          100000 non-null  int64  \n",
      " 11  Projects_Handled             100000 non-null  int64  \n",
      " 12  Overtime_Hours               100000 non-null  int64  \n",
      " 13  Sick_Days                    100000 non-null  int64  \n",
      " 14  Remote_Work_Frequency        100000 non-null  int64  \n",
      " 15  Team_Size                    100000 non-null  int64  \n",
      " 16  Training_Hours               100000 non-null  int64  \n",
      " 17  Promotions                   100000 non-null  int64  \n",
      " 18  Employee_Satisfaction_Score  100000 non-null  float64\n",
      " 19  Resigned                     100000 non-null  bool   \n",
      "dtypes: bool(1), float64(2), int64(12), object(5)\n",
      "memory usage: 14.6+ MB\n"
     ]
    }
   ],
   "source": [
    "df.info()"
   ]
  },
  {
   "cell_type": "code",
   "execution_count": 31,
   "metadata": {},
   "outputs": [
    {
     "data": {
      "text/html": [
       "<div>\n",
       "<style scoped>\n",
       "    .dataframe tbody tr th:only-of-type {\n",
       "        vertical-align: middle;\n",
       "    }\n",
       "\n",
       "    .dataframe tbody tr th {\n",
       "        vertical-align: top;\n",
       "    }\n",
       "\n",
       "    .dataframe thead th {\n",
       "        text-align: right;\n",
       "    }\n",
       "</style>\n",
       "<table border=\"1\" class=\"dataframe\">\n",
       "  <thead>\n",
       "    <tr style=\"text-align: right;\">\n",
       "      <th></th>\n",
       "      <th>Employee_ID</th>\n",
       "      <th>Department</th>\n",
       "      <th>Gender</th>\n",
       "      <th>Age</th>\n",
       "      <th>Job_Title</th>\n",
       "      <th>Hire_Date</th>\n",
       "      <th>Years_At_Company</th>\n",
       "      <th>Education_Level</th>\n",
       "      <th>Performance_Score</th>\n",
       "      <th>Monthly_Salary</th>\n",
       "      <th>Work_Hours_Per_Week</th>\n",
       "      <th>Projects_Handled</th>\n",
       "      <th>Overtime_Hours</th>\n",
       "      <th>Sick_Days</th>\n",
       "      <th>Remote_Work_Frequency</th>\n",
       "      <th>Team_Size</th>\n",
       "      <th>Training_Hours</th>\n",
       "      <th>Promotions</th>\n",
       "      <th>Employee_Satisfaction_Score</th>\n",
       "      <th>Resigned</th>\n",
       "    </tr>\n",
       "  </thead>\n",
       "  <tbody>\n",
       "    <tr>\n",
       "      <th>0</th>\n",
       "      <td>1</td>\n",
       "      <td>IT</td>\n",
       "      <td>Male</td>\n",
       "      <td>55</td>\n",
       "      <td>Specialist</td>\n",
       "      <td>2022-01-19 08:03:05.556036</td>\n",
       "      <td>2</td>\n",
       "      <td>High School</td>\n",
       "      <td>5</td>\n",
       "      <td>6750.0</td>\n",
       "      <td>33</td>\n",
       "      <td>32</td>\n",
       "      <td>22</td>\n",
       "      <td>2</td>\n",
       "      <td>0</td>\n",
       "      <td>14</td>\n",
       "      <td>66</td>\n",
       "      <td>0</td>\n",
       "      <td>2.63</td>\n",
       "      <td>False</td>\n",
       "    </tr>\n",
       "    <tr>\n",
       "      <th>1</th>\n",
       "      <td>2</td>\n",
       "      <td>Finance</td>\n",
       "      <td>Male</td>\n",
       "      <td>29</td>\n",
       "      <td>Developer</td>\n",
       "      <td>2024-04-18 08:03:05.556036</td>\n",
       "      <td>0</td>\n",
       "      <td>High School</td>\n",
       "      <td>5</td>\n",
       "      <td>7500.0</td>\n",
       "      <td>34</td>\n",
       "      <td>34</td>\n",
       "      <td>13</td>\n",
       "      <td>14</td>\n",
       "      <td>100</td>\n",
       "      <td>12</td>\n",
       "      <td>61</td>\n",
       "      <td>2</td>\n",
       "      <td>1.72</td>\n",
       "      <td>False</td>\n",
       "    </tr>\n",
       "    <tr>\n",
       "      <th>2</th>\n",
       "      <td>3</td>\n",
       "      <td>Finance</td>\n",
       "      <td>Male</td>\n",
       "      <td>55</td>\n",
       "      <td>Specialist</td>\n",
       "      <td>2015-10-26 08:03:05.556036</td>\n",
       "      <td>8</td>\n",
       "      <td>High School</td>\n",
       "      <td>3</td>\n",
       "      <td>5850.0</td>\n",
       "      <td>37</td>\n",
       "      <td>27</td>\n",
       "      <td>6</td>\n",
       "      <td>3</td>\n",
       "      <td>50</td>\n",
       "      <td>10</td>\n",
       "      <td>1</td>\n",
       "      <td>0</td>\n",
       "      <td>3.17</td>\n",
       "      <td>False</td>\n",
       "    </tr>\n",
       "    <tr>\n",
       "      <th>3</th>\n",
       "      <td>4</td>\n",
       "      <td>Customer Support</td>\n",
       "      <td>Female</td>\n",
       "      <td>48</td>\n",
       "      <td>Analyst</td>\n",
       "      <td>2016-10-22 08:03:05.556036</td>\n",
       "      <td>7</td>\n",
       "      <td>Bachelor</td>\n",
       "      <td>2</td>\n",
       "      <td>4800.0</td>\n",
       "      <td>52</td>\n",
       "      <td>10</td>\n",
       "      <td>28</td>\n",
       "      <td>12</td>\n",
       "      <td>100</td>\n",
       "      <td>10</td>\n",
       "      <td>0</td>\n",
       "      <td>1</td>\n",
       "      <td>1.86</td>\n",
       "      <td>False</td>\n",
       "    </tr>\n",
       "    <tr>\n",
       "      <th>4</th>\n",
       "      <td>5</td>\n",
       "      <td>Engineering</td>\n",
       "      <td>Female</td>\n",
       "      <td>36</td>\n",
       "      <td>Analyst</td>\n",
       "      <td>2021-07-23 08:03:05.556036</td>\n",
       "      <td>3</td>\n",
       "      <td>Bachelor</td>\n",
       "      <td>2</td>\n",
       "      <td>4800.0</td>\n",
       "      <td>38</td>\n",
       "      <td>11</td>\n",
       "      <td>29</td>\n",
       "      <td>13</td>\n",
       "      <td>100</td>\n",
       "      <td>15</td>\n",
       "      <td>9</td>\n",
       "      <td>1</td>\n",
       "      <td>1.25</td>\n",
       "      <td>False</td>\n",
       "    </tr>\n",
       "    <tr>\n",
       "      <th>...</th>\n",
       "      <td>...</td>\n",
       "      <td>...</td>\n",
       "      <td>...</td>\n",
       "      <td>...</td>\n",
       "      <td>...</td>\n",
       "      <td>...</td>\n",
       "      <td>...</td>\n",
       "      <td>...</td>\n",
       "      <td>...</td>\n",
       "      <td>...</td>\n",
       "      <td>...</td>\n",
       "      <td>...</td>\n",
       "      <td>...</td>\n",
       "      <td>...</td>\n",
       "      <td>...</td>\n",
       "      <td>...</td>\n",
       "      <td>...</td>\n",
       "      <td>...</td>\n",
       "      <td>...</td>\n",
       "      <td>...</td>\n",
       "    </tr>\n",
       "    <tr>\n",
       "      <th>99995</th>\n",
       "      <td>99996</td>\n",
       "      <td>Finance</td>\n",
       "      <td>Male</td>\n",
       "      <td>27</td>\n",
       "      <td>Technician</td>\n",
       "      <td>2022-12-07 08:03:05.556036</td>\n",
       "      <td>1</td>\n",
       "      <td>Bachelor</td>\n",
       "      <td>4</td>\n",
       "      <td>4900.0</td>\n",
       "      <td>55</td>\n",
       "      <td>46</td>\n",
       "      <td>5</td>\n",
       "      <td>3</td>\n",
       "      <td>75</td>\n",
       "      <td>16</td>\n",
       "      <td>48</td>\n",
       "      <td>2</td>\n",
       "      <td>1.28</td>\n",
       "      <td>False</td>\n",
       "    </tr>\n",
       "    <tr>\n",
       "      <th>99996</th>\n",
       "      <td>99997</td>\n",
       "      <td>IT</td>\n",
       "      <td>Female</td>\n",
       "      <td>36</td>\n",
       "      <td>Consultant</td>\n",
       "      <td>2018-07-24 08:03:05.556036</td>\n",
       "      <td>6</td>\n",
       "      <td>Master</td>\n",
       "      <td>5</td>\n",
       "      <td>8250.0</td>\n",
       "      <td>39</td>\n",
       "      <td>35</td>\n",
       "      <td>7</td>\n",
       "      <td>0</td>\n",
       "      <td>0</td>\n",
       "      <td>10</td>\n",
       "      <td>77</td>\n",
       "      <td>1</td>\n",
       "      <td>3.48</td>\n",
       "      <td>True</td>\n",
       "    </tr>\n",
       "    <tr>\n",
       "      <th>99997</th>\n",
       "      <td>99998</td>\n",
       "      <td>Operations</td>\n",
       "      <td>Male</td>\n",
       "      <td>53</td>\n",
       "      <td>Analyst</td>\n",
       "      <td>2015-11-24 08:03:05.556036</td>\n",
       "      <td>8</td>\n",
       "      <td>High School</td>\n",
       "      <td>2</td>\n",
       "      <td>4800.0</td>\n",
       "      <td>31</td>\n",
       "      <td>13</td>\n",
       "      <td>6</td>\n",
       "      <td>5</td>\n",
       "      <td>0</td>\n",
       "      <td>5</td>\n",
       "      <td>87</td>\n",
       "      <td>1</td>\n",
       "      <td>2.60</td>\n",
       "      <td>False</td>\n",
       "    </tr>\n",
       "    <tr>\n",
       "      <th>99998</th>\n",
       "      <td>99999</td>\n",
       "      <td>HR</td>\n",
       "      <td>Female</td>\n",
       "      <td>22</td>\n",
       "      <td>Consultant</td>\n",
       "      <td>2015-08-03 08:03:05.556036</td>\n",
       "      <td>9</td>\n",
       "      <td>High School</td>\n",
       "      <td>5</td>\n",
       "      <td>8250.0</td>\n",
       "      <td>35</td>\n",
       "      <td>43</td>\n",
       "      <td>10</td>\n",
       "      <td>1</td>\n",
       "      <td>75</td>\n",
       "      <td>2</td>\n",
       "      <td>31</td>\n",
       "      <td>1</td>\n",
       "      <td>3.10</td>\n",
       "      <td>False</td>\n",
       "    </tr>\n",
       "    <tr>\n",
       "      <th>99999</th>\n",
       "      <td>100000</td>\n",
       "      <td>Finance</td>\n",
       "      <td>Female</td>\n",
       "      <td>43</td>\n",
       "      <td>Analyst</td>\n",
       "      <td>2024-03-04 08:03:05.556036</td>\n",
       "      <td>0</td>\n",
       "      <td>PhD</td>\n",
       "      <td>1</td>\n",
       "      <td>4400.0</td>\n",
       "      <td>51</td>\n",
       "      <td>43</td>\n",
       "      <td>27</td>\n",
       "      <td>11</td>\n",
       "      <td>75</td>\n",
       "      <td>13</td>\n",
       "      <td>45</td>\n",
       "      <td>1</td>\n",
       "      <td>2.64</td>\n",
       "      <td>False</td>\n",
       "    </tr>\n",
       "  </tbody>\n",
       "</table>\n",
       "<p>100000 rows × 20 columns</p>\n",
       "</div>"
      ],
      "text/plain": [
       "       Employee_ID        Department  Gender  Age   Job_Title  \\\n",
       "0                1                IT    Male   55  Specialist   \n",
       "1                2           Finance    Male   29   Developer   \n",
       "2                3           Finance    Male   55  Specialist   \n",
       "3                4  Customer Support  Female   48     Analyst   \n",
       "4                5       Engineering  Female   36     Analyst   \n",
       "...            ...               ...     ...  ...         ...   \n",
       "99995        99996           Finance    Male   27  Technician   \n",
       "99996        99997                IT  Female   36  Consultant   \n",
       "99997        99998        Operations    Male   53     Analyst   \n",
       "99998        99999                HR  Female   22  Consultant   \n",
       "99999       100000           Finance  Female   43     Analyst   \n",
       "\n",
       "                        Hire_Date  Years_At_Company Education_Level  \\\n",
       "0      2022-01-19 08:03:05.556036                 2     High School   \n",
       "1      2024-04-18 08:03:05.556036                 0     High School   \n",
       "2      2015-10-26 08:03:05.556036                 8     High School   \n",
       "3      2016-10-22 08:03:05.556036                 7        Bachelor   \n",
       "4      2021-07-23 08:03:05.556036                 3        Bachelor   \n",
       "...                           ...               ...             ...   \n",
       "99995  2022-12-07 08:03:05.556036                 1        Bachelor   \n",
       "99996  2018-07-24 08:03:05.556036                 6          Master   \n",
       "99997  2015-11-24 08:03:05.556036                 8     High School   \n",
       "99998  2015-08-03 08:03:05.556036                 9     High School   \n",
       "99999  2024-03-04 08:03:05.556036                 0             PhD   \n",
       "\n",
       "       Performance_Score  Monthly_Salary  Work_Hours_Per_Week  \\\n",
       "0                      5          6750.0                   33   \n",
       "1                      5          7500.0                   34   \n",
       "2                      3          5850.0                   37   \n",
       "3                      2          4800.0                   52   \n",
       "4                      2          4800.0                   38   \n",
       "...                  ...             ...                  ...   \n",
       "99995                  4          4900.0                   55   \n",
       "99996                  5          8250.0                   39   \n",
       "99997                  2          4800.0                   31   \n",
       "99998                  5          8250.0                   35   \n",
       "99999                  1          4400.0                   51   \n",
       "\n",
       "       Projects_Handled  Overtime_Hours  Sick_Days  Remote_Work_Frequency  \\\n",
       "0                    32              22          2                      0   \n",
       "1                    34              13         14                    100   \n",
       "2                    27               6          3                     50   \n",
       "3                    10              28         12                    100   \n",
       "4                    11              29         13                    100   \n",
       "...                 ...             ...        ...                    ...   \n",
       "99995                46               5          3                     75   \n",
       "99996                35               7          0                      0   \n",
       "99997                13               6          5                      0   \n",
       "99998                43              10          1                     75   \n",
       "99999                43              27         11                     75   \n",
       "\n",
       "       Team_Size  Training_Hours  Promotions  Employee_Satisfaction_Score  \\\n",
       "0             14              66           0                         2.63   \n",
       "1             12              61           2                         1.72   \n",
       "2             10               1           0                         3.17   \n",
       "3             10               0           1                         1.86   \n",
       "4             15               9           1                         1.25   \n",
       "...          ...             ...         ...                          ...   \n",
       "99995         16              48           2                         1.28   \n",
       "99996         10              77           1                         3.48   \n",
       "99997          5              87           1                         2.60   \n",
       "99998          2              31           1                         3.10   \n",
       "99999         13              45           1                         2.64   \n",
       "\n",
       "       Resigned  \n",
       "0         False  \n",
       "1         False  \n",
       "2         False  \n",
       "3         False  \n",
       "4         False  \n",
       "...         ...  \n",
       "99995     False  \n",
       "99996      True  \n",
       "99997     False  \n",
       "99998     False  \n",
       "99999     False  \n",
       "\n",
       "[100000 rows x 20 columns]"
      ]
     },
     "execution_count": 31,
     "metadata": {},
     "output_type": "execute_result"
    }
   ],
   "source": [
    "df"
   ]
  },
  {
   "cell_type": "markdown",
   "metadata": {},
   "source": [
    "1.Find the number of employees working in different departments in the company and present their graph"
   ]
  },
  {
   "cell_type": "code",
   "execution_count": 32,
   "metadata": {},
   "outputs": [
    {
     "name": "stdout",
     "output_type": "stream",
     "text": [
      "Department\n",
      "Marketing           11216\n",
      "Finance             11200\n",
      "Operations          11181\n",
      "IT                  11131\n",
      "Sales               11122\n",
      "Legal               11118\n",
      "Customer Support    11116\n",
      "HR                  10960\n",
      "Engineering         10956\n",
      "Name: count, dtype: int64\n"
     ]
    },
    {
     "data": {
      "text/plain": [
       "<Axes: xlabel='Department'>"
      ]
     },
     "execution_count": 32,
     "metadata": {},
     "output_type": "execute_result"
    },
    {
     "data": {
      "image/png": "[encoded data removed]",
      "text/plain": [
       "<Figure size 640x480 with 1 Axes>"
      ]
     },
     "metadata": {},
     "output_type": "display_data"
    }
   ],
   "source": [
    "department_counts = df['Department'].value_counts()\n",
    "print(department_counts)\n",
    "import seaborn as sns \n",
    "sns.barplot(x=department_counts.index, y=department_counts.values)"
   ]
  },
  {
   "cell_type": "markdown",
   "metadata": {},
   "source": [
    "This is the list and number of employees working in different departments in the company"
   ]
  },
  {
   "cell_type": "markdown",
   "metadata": {},
   "source": [
    "2.Number of male and female employees in the company and their graph"
   ]
  },
  {
   "cell_type": "code",
   "execution_count": 33,
   "metadata": {},
   "outputs": [
    {
     "name": "stdout",
     "output_type": "stream",
     "text": [
      "Gender\n",
      "Male      48031\n",
      "Female    48001\n",
      "Other      3968\n",
      "Name: count, dtype: int64\n"
     ]
    },
    {
     "data": {
      "text/plain": [
       "<Axes: xlabel='Gender'>"
      ]
     },
     "execution_count": 33,
     "metadata": {},
     "output_type": "execute_result"
    },
    {
     "data": {
      "image/png": "[encoded data removed]",
      "text/plain": [
       "<Figure size 640x480 with 1 Axes>"
      ]
     },
     "metadata": {},
     "output_type": "display_data"
    }
   ],
   "source": [
    "Gender = df['Gender'].value_counts()\n",
    "print(Gender)\n",
    "import seaborn as sns \n",
    "sns.scatterplot(x=Gender.index, y=Gender.values)"
   ]
  },
  {
   "cell_type": "markdown",
   "metadata": {},
   "source": [
    "There are 48031 male employees and 48001 female employees in the company"
   ]
  },
  {
   "cell_type": "markdown",
   "metadata": {},
   "source": [
    "3.Number of employees who are older than 50 years"
   ]
  },
  {
   "cell_type": "code",
   "execution_count": 34,
   "metadata": {},
   "outputs": [
    {
     "name": "stdout",
     "output_type": "stream",
     "text": [
      "Number of employees older than 50: 25713\n"
     ]
    }
   ],
   "source": [
    "older_employees = (df[df['Age'] > 50])\n",
    "count_older_employees = len(older_employees)\n",
    "print(f\"Number of employees older than 50: {count_older_employees}\")"
   ]
  },
  {
   "cell_type": "markdown",
   "metadata": {},
   "source": [
    "There are 25713 employees who are older than 50 in the company"
   ]
  },
  {
   "cell_type": "markdown",
   "metadata": {},
   "source": [
    "4.Number of employees who are younger than 25"
   ]
  },
  {
   "cell_type": "code",
   "execution_count": 35,
   "metadata": {},
   "outputs": [
    {
     "name": "stdout",
     "output_type": "stream",
     "text": [
      "Number of employees younger than 25: 7608\n"
     ]
    }
   ],
   "source": [
    "older_employees = (df[df['Age'] < 25])\n",
    "count_younger_employees = len(older_employees)\n",
    "print(f\"Number of employees younger than 25: {count_younger_employees}\")"
   ]
  },
  {
   "cell_type": "markdown",
   "metadata": {},
   "source": [
    "There are 7608 employees who are younger than 25 years old in the company"
   ]
  },
  {
   "cell_type": "markdown",
   "metadata": {},
   "source": [
    "5.Find the number of employees with different job titles and prepare their graph"
   ]
  },
  {
   "cell_type": "code",
   "execution_count": 36,
   "metadata": {},
   "outputs": [
    {
     "name": "stdout",
     "output_type": "stream",
     "text": [
      "Job_Title\n",
      "Specialist    14507\n",
      "Manager       14325\n",
      "Technician    14285\n",
      "Analyst       14261\n",
      "Engineer      14217\n",
      "Consultant    14210\n",
      "Developer     14195\n",
      "Name: count, dtype: int64\n"
     ]
    },
    {
     "data": {
      "text/plain": [
       "<Axes: xlabel='Job_Title'>"
      ]
     },
     "execution_count": 36,
     "metadata": {},
     "output_type": "execute_result"
    },
    {
     "data": {
      "image/png": "[encoded data removed]",
      "text/plain": [
       "<Figure size 640x480 with 1 Axes>"
      ]
     },
     "metadata": {},
     "output_type": "display_data"
    }
   ],
   "source": [
    "Job_Title = df['Job_Title'].value_counts()\n",
    "print(Job_Title)\n",
    "import seaborn as sns \n",
    "sns.lineplot(x=Job_Title.index, y=Job_Title.values)"
   ]
  },
  {
   "cell_type": "markdown",
   "metadata": {},
   "source": [
    "This is the graphical representation of employees and their count by various job titles in the company"
   ]
  },
  {
   "cell_type": "markdown",
   "metadata": {},
   "source": [
    "6.Number of employees hired in 2024"
   ]
  },
  {
   "cell_type": "code",
   "execution_count": 37,
   "metadata": {},
   "outputs": [
    {
     "name": "stdout",
     "output_type": "stream",
     "text": [
      "Number of employees hired in 2024: 6890\n"
     ]
    }
   ],
   "source": [
    "df['Hire_Date'] = pd.to_datetime(df['Hire_Date'])\n",
    "num_employees_2024 = len(df[df['Hire_Date'].dt.year == 2024])\n",
    "print(f\"Number of employees hired in 2024: {num_employees_2024}\")"
   ]
  },
  {
   "cell_type": "markdown",
   "metadata": {},
   "source": [
    "Number of employees hired in the company at 2024 is 6890"
   ]
  },
  {
   "cell_type": "markdown",
   "metadata": {},
   "source": [
    "7.Monthly analysis of employees hired in 2023"
   ]
  },
  {
   "cell_type": "code",
   "execution_count": 38,
   "metadata": {},
   "outputs": [
    {
     "name": "stderr",
     "output_type": "stream",
     "text": [
      "C:\\Users\\USER\\AppData\\Local\\Temp\\ipykernel_11428\\3215549732.py:6: SettingWithCopyWarning: \n",
      "A value is trying to be set on a copy of a slice from a DataFrame.\n",
      "Try using .loc[row_indexer,col_indexer] = value instead\n",
      "\n",
      "See the caveats in the documentation: https://pandas.pydata.org/pandas-docs/stable/user_guide/indexing.html#returning-a-view-versus-a-copy\n",
      "  df_2023['Hire_Month'] = df_2023['Hire_Date'].dt.month\n",
      "C:\\Users\\USER\\AppData\\Local\\Temp\\ipykernel_11428\\3215549732.py:10: FutureWarning: \n",
      "\n",
      "Passing `palette` without assigning `hue` is deprecated and will be removed in v0.14.0. Assign the `x` variable to `hue` and set `legend=False` for the same effect.\n",
      "\n",
      "  sns.barplot(x=monthly_hires.index, y=monthly_hires.values,palette=sns.color_palette('husl'))\n",
      "C:\\Users\\USER\\AppData\\Local\\Temp\\ipykernel_11428\\3215549732.py:10: UserWarning: \n",
      "The palette list has fewer values (6) than needed (12) and will cycle, which may produce an uninterpretable plot.\n",
      "  sns.barplot(x=monthly_hires.index, y=monthly_hires.values,palette=sns.color_palette('husl'))\n"
     ]
    },
    {
     "data": {
      "image/png": "[encoded data removed]",
      "text/plain": [
       "<Figure size 1000x600 with 1 Axes>"
      ]
     },
     "metadata": {},
     "output_type": "display_data"
    }
   ],
   "source": [
    "import seaborn as sns\n",
    "import matplotlib.pyplot as plt\n",
    "\n",
    "df['Hire_Date'] = pd.to_datetime(df['Hire_Date'])\n",
    "df_2023 = df[df['Hire_Date'].dt.year == 2023]\n",
    "df_2023['Hire_Month'] = df_2023['Hire_Date'].dt.month\n",
    "monthly_hires = df_2023['Hire_Month'].value_counts().sort_index()\n",
    "\n",
    "plt.figure(figsize=(10, 6))\n",
    "sns.barplot(x=monthly_hires.index, y=monthly_hires.values,palette=sns.color_palette('husl'))+\n",
    "plt.title('Monthly Employee Hires in 2023')\n",
    "plt.xlabel('Month')\n",
    "plt.ylabel('Number of Hires')\n",
    "plt.show()"
   ]
  },
  {
   "cell_type": "markdown",
   "metadata": {},
   "source": [
    "This is the month by month analysis of employees hired at the company in 2023"
   ]
  },
  {
   "cell_type": "markdown",
   "metadata": {},
   "source": [
    "8.Number of employees with more than 5 years of experience"
   ]
  },
  {
   "cell_type": "code",
   "execution_count": 39,
   "metadata": {},
   "outputs": [
    {
     "name": "stdout",
     "output_type": "stream",
     "text": [
      "Number of employees with more than 5 years of experience: 39697\n"
     ]
    }
   ],
   "source": [
    "num_experienced_employees = df['Years_At_Company'].gt(5).sum()\n",
    "print(f\"Number of employees with more than 5 years of experience: {num_experienced_employees}\")"
   ]
  },
  {
   "cell_type": "markdown",
   "metadata": {},
   "source": [
    "Number of employees with more than 5 years of experience at the company :39697"
   ]
  },
  {
   "cell_type": "markdown",
   "metadata": {},
   "source": [
    "9.Analyse employees with their education level"
   ]
  },
  {
   "cell_type": "code",
   "execution_count": 40,
   "metadata": {},
   "outputs": [
    {
     "name": "stdout",
     "output_type": "stream",
     "text": [
      "Education_Level\n",
      "Bachelor       50041\n",
      "High School    30004\n",
      "Master         14904\n",
      "PhD             5051\n",
      "Name: count, dtype: int64\n"
     ]
    },
    {
     "data": {
      "image/png": "[encoded data removed]",
      "text/plain": [
       "<Figure size 640x480 with 1 Axes>"
      ]
     },
     "metadata": {},
     "output_type": "display_data"
    }
   ],
   "source": [
    "df['Education_Level'] = pd.Categorical(df['Education_Level'])\n",
    "education_counts = df['Education_Level'].value_counts()\n",
    "print(education_counts)\n",
    "\n",
    "import matplotlib.pyplot as plt\n",
    "\n",
    "education_counts.plot(kind='pie', autopct='%1.1f%%')\n",
    "plt.title('Employees by Education Level')\n",
    "plt.show()"
   ]
  },
  {
   "cell_type": "markdown",
   "metadata": {},
   "source": [
    "This is the graphical representation of employees by analysing their education levels"
   ]
  },
  {
   "cell_type": "markdown",
   "metadata": {},
   "source": [
    "10.Number of employees who has a perfomance score of 5"
   ]
  },
  {
   "cell_type": "code",
   "execution_count": 41,
   "metadata": {},
   "outputs": [
    {
     "name": "stdout",
     "output_type": "stream",
     "text": [
      "Number of employees with Performance Score 5: 19928\n"
     ]
    }
   ],
   "source": [
    "top_performers = df[df['Performance_Score'] == 5]\n",
    "num_top_performers = len(top_performers)\n",
    "print(f\"Number of employees with Performance Score 5: {num_top_performers}\")"
   ]
  },
  {
   "cell_type": "markdown",
   "metadata": {},
   "source": [
    "11.Visualize perfomance score of employees"
   ]
  },
  {
   "cell_type": "code",
   "execution_count": 42,
   "metadata": {},
   "outputs": [
    {
     "name": "stderr",
     "output_type": "stream",
     "text": [
      "C:\\Users\\USER\\AppData\\Local\\Temp\\ipykernel_11428\\846553416.py:5: FutureWarning: \n",
      "\n",
      "Passing `palette` without assigning `hue` is deprecated and will be removed in v0.14.0. Assign the `x` variable to `hue` and set `legend=False` for the same effect.\n",
      "\n",
      "  sns.barplot(x=df['Performance_Score'].value_counts().index, y=df['Performance_Score'].value_counts().values,   palette=sns.color_palette('husl', len(df['Performance_Score'].value_counts())))\n"
     ]
    },
    {
     "data": {
      "image/png": "[encoded data removed]",
      "text/plain": [
       "<Figure size 800x600 with 1 Axes>"
      ]
     },
     "metadata": {},
     "output_type": "display_data"
    }
   ],
   "source": [
    "import seaborn as sns\n",
    "import matplotlib.pyplot as plt\n",
    "\n",
    "plt.figure(figsize=(8, 6))\n",
    "sns.barplot(x=df['Performance_Score'].value_counts().index, y=df['Performance_Score'].value_counts().values,   palette=sns.color_palette('husl', len(df['Performance_Score'].value_counts())))\n",
    "\n",
    "plt.title('Performance Score Distribution')\n",
    "plt.tight_layout()\n",
    "plt.show()"
   ]
  },
  {
   "cell_type": "markdown",
   "metadata": {},
   "source": [
    "This is the visualaziation of employees based on their perfomance score"
   ]
  },
  {
   "cell_type": "markdown",
   "metadata": {},
   "source": [
    "12.Analyse employees according to their monthly salaries"
   ]
  },
  {
   "cell_type": "code",
   "execution_count": 43,
   "metadata": {},
   "outputs": [
    {
     "name": "stdout",
     "output_type": "stream",
     "text": [
      "count    100000.000000\n",
      "mean       6403.211000\n",
      "std        1372.508717\n",
      "min        3850.000000\n",
      "25%        5250.000000\n",
      "50%        6500.000000\n",
      "75%        7500.000000\n",
      "max        9000.000000\n",
      "Name: Monthly_Salary, dtype: float64\n"
     ]
    },
    {
     "data": {
      "image/png": "[encoded data removed]",
      "text/plain": [
       "<Figure size 1000x600 with 1 Axes>"
      ]
     },
     "metadata": {},
     "output_type": "display_data"
    }
   ],
   "source": [
    "df['Monthly_Salary'] = pd.to_numeric(df['Monthly_Salary'])\n",
    "summary_stats = df['Monthly_Salary'].describe()\n",
    "print(summary_stats)\n",
    "\n",
    "import matplotlib.pyplot as plt\n",
    "plt.figure(figsize=(10, 6))\n",
    "df['Monthly_Salary'].hist(bins=10)\n",
    "plt.title('Salary Distribution')\n",
    "plt.xlabel('Monthly_Salary')\n",
    "plt.ylabel('Frequency')\n",
    "plt.show()"
   ]
  },
  {
   "cell_type": "markdown",
   "metadata": {},
   "source": [
    "This is the graphical represntation of employees according to their monthly salaries in the company"
   ]
  },
  {
   "cell_type": "markdown",
   "metadata": {},
   "source": [
    "13.Identify top 5 employees with most overtime"
   ]
  },
  {
   "cell_type": "code",
   "execution_count": 44,
   "metadata": {},
   "outputs": [
    {
     "data": {
      "text/html": [
       "<div>\n",
       "<style scoped>\n",
       "    .dataframe tbody tr th:only-of-type {\n",
       "        vertical-align: middle;\n",
       "    }\n",
       "\n",
       "    .dataframe tbody tr th {\n",
       "        vertical-align: top;\n",
       "    }\n",
       "\n",
       "    .dataframe thead th {\n",
       "        text-align: right;\n",
       "    }\n",
       "</style>\n",
       "<table border=\"1\" class=\"dataframe\">\n",
       "  <thead>\n",
       "    <tr style=\"text-align: right;\">\n",
       "      <th></th>\n",
       "      <th>Employee_ID</th>\n",
       "      <th>Department</th>\n",
       "      <th>Gender</th>\n",
       "      <th>Age</th>\n",
       "      <th>Job_Title</th>\n",
       "      <th>Hire_Date</th>\n",
       "      <th>Years_At_Company</th>\n",
       "      <th>Education_Level</th>\n",
       "      <th>Performance_Score</th>\n",
       "      <th>Monthly_Salary</th>\n",
       "      <th>Work_Hours_Per_Week</th>\n",
       "      <th>Projects_Handled</th>\n",
       "      <th>Overtime_Hours</th>\n",
       "      <th>Sick_Days</th>\n",
       "      <th>Remote_Work_Frequency</th>\n",
       "      <th>Team_Size</th>\n",
       "      <th>Training_Hours</th>\n",
       "      <th>Promotions</th>\n",
       "      <th>Employee_Satisfaction_Score</th>\n",
       "      <th>Resigned</th>\n",
       "    </tr>\n",
       "  </thead>\n",
       "  <tbody>\n",
       "    <tr>\n",
       "      <th>78</th>\n",
       "      <td>79</td>\n",
       "      <td>Legal</td>\n",
       "      <td>Male</td>\n",
       "      <td>46</td>\n",
       "      <td>Consultant</td>\n",
       "      <td>2016-02-05 08:03:05.556036</td>\n",
       "      <td>8</td>\n",
       "      <td>High School</td>\n",
       "      <td>3</td>\n",
       "      <td>7150.0</td>\n",
       "      <td>60</td>\n",
       "      <td>36</td>\n",
       "      <td>27</td>\n",
       "      <td>13</td>\n",
       "      <td>25</td>\n",
       "      <td>5</td>\n",
       "      <td>94</td>\n",
       "      <td>2</td>\n",
       "      <td>3.50</td>\n",
       "      <td>True</td>\n",
       "    </tr>\n",
       "    <tr>\n",
       "      <th>259</th>\n",
       "      <td>260</td>\n",
       "      <td>Marketing</td>\n",
       "      <td>Male</td>\n",
       "      <td>40</td>\n",
       "      <td>Manager</td>\n",
       "      <td>2020-04-08 08:03:05.556036</td>\n",
       "      <td>4</td>\n",
       "      <td>High School</td>\n",
       "      <td>2</td>\n",
       "      <td>7200.0</td>\n",
       "      <td>60</td>\n",
       "      <td>25</td>\n",
       "      <td>6</td>\n",
       "      <td>13</td>\n",
       "      <td>75</td>\n",
       "      <td>11</td>\n",
       "      <td>94</td>\n",
       "      <td>1</td>\n",
       "      <td>4.41</td>\n",
       "      <td>False</td>\n",
       "    </tr>\n",
       "    <tr>\n",
       "      <th>260</th>\n",
       "      <td>261</td>\n",
       "      <td>Marketing</td>\n",
       "      <td>Male</td>\n",
       "      <td>46</td>\n",
       "      <td>Developer</td>\n",
       "      <td>2018-07-26 08:03:05.556036</td>\n",
       "      <td>6</td>\n",
       "      <td>Master</td>\n",
       "      <td>2</td>\n",
       "      <td>6000.0</td>\n",
       "      <td>60</td>\n",
       "      <td>3</td>\n",
       "      <td>8</td>\n",
       "      <td>13</td>\n",
       "      <td>0</td>\n",
       "      <td>17</td>\n",
       "      <td>93</td>\n",
       "      <td>2</td>\n",
       "      <td>4.27</td>\n",
       "      <td>False</td>\n",
       "    </tr>\n",
       "    <tr>\n",
       "      <th>317</th>\n",
       "      <td>318</td>\n",
       "      <td>Finance</td>\n",
       "      <td>Female</td>\n",
       "      <td>27</td>\n",
       "      <td>Engineer</td>\n",
       "      <td>2015-11-01 08:03:05.556036</td>\n",
       "      <td>8</td>\n",
       "      <td>Bachelor</td>\n",
       "      <td>1</td>\n",
       "      <td>6600.0</td>\n",
       "      <td>60</td>\n",
       "      <td>36</td>\n",
       "      <td>13</td>\n",
       "      <td>9</td>\n",
       "      <td>75</td>\n",
       "      <td>19</td>\n",
       "      <td>66</td>\n",
       "      <td>0</td>\n",
       "      <td>2.49</td>\n",
       "      <td>False</td>\n",
       "    </tr>\n",
       "    <tr>\n",
       "      <th>319</th>\n",
       "      <td>320</td>\n",
       "      <td>Sales</td>\n",
       "      <td>Female</td>\n",
       "      <td>45</td>\n",
       "      <td>Engineer</td>\n",
       "      <td>2017-06-19 08:03:05.556036</td>\n",
       "      <td>7</td>\n",
       "      <td>Bachelor</td>\n",
       "      <td>3</td>\n",
       "      <td>7800.0</td>\n",
       "      <td>60</td>\n",
       "      <td>13</td>\n",
       "      <td>4</td>\n",
       "      <td>6</td>\n",
       "      <td>100</td>\n",
       "      <td>19</td>\n",
       "      <td>34</td>\n",
       "      <td>1</td>\n",
       "      <td>4.70</td>\n",
       "      <td>False</td>\n",
       "    </tr>\n",
       "  </tbody>\n",
       "</table>\n",
       "</div>"
      ],
      "text/plain": [
       "     Employee_ID Department  Gender  Age   Job_Title  \\\n",
       "78            79      Legal    Male   46  Consultant   \n",
       "259          260  Marketing    Male   40     Manager   \n",
       "260          261  Marketing    Male   46   Developer   \n",
       "317          318    Finance  Female   27    Engineer   \n",
       "319          320      Sales  Female   45    Engineer   \n",
       "\n",
       "                     Hire_Date  Years_At_Company Education_Level  \\\n",
       "78  2016-02-05 08:03:05.556036                 8     High School   \n",
       "259 2020-04-08 08:03:05.556036                 4     High School   \n",
       "260 2018-07-26 08:03:05.556036                 6          Master   \n",
       "317 2015-11-01 08:03:05.556036                 8        Bachelor   \n",
       "319 2017-06-19 08:03:05.556036                 7        Bachelor   \n",
       "\n",
       "     Performance_Score  Monthly_Salary  Work_Hours_Per_Week  Projects_Handled  \\\n",
       "78                   3          7150.0                   60                36   \n",
       "259                  2          7200.0                   60                25   \n",
       "260                  2          6000.0                   60                 3   \n",
       "317                  1          6600.0                   60                36   \n",
       "319                  3          7800.0                   60                13   \n",
       "\n",
       "     Overtime_Hours  Sick_Days  Remote_Work_Frequency  Team_Size  \\\n",
       "78               27         13                     25          5   \n",
       "259               6         13                     75         11   \n",
       "260               8         13                      0         17   \n",
       "317              13          9                     75         19   \n",
       "319               4          6                    100         19   \n",
       "\n",
       "     Training_Hours  Promotions  Employee_Satisfaction_Score  Resigned  \n",
       "78               94           2                         3.50      True  \n",
       "259              94           1                         4.41     False  \n",
       "260              93           2                         4.27     False  \n",
       "317              66           0                         2.49     False  \n",
       "319              34           1                         4.70     False  "
      ]
     },
     "execution_count": 44,
     "metadata": {},
     "output_type": "execute_result"
    }
   ],
   "source": [
    "df.nlargest(5, 'Work_Hours_Per_Week')"
   ]
  },
  {
   "cell_type": "markdown",
   "metadata": {},
   "source": [
    "These are the top 5 employees who work the most overtime in the company"
   ]
  },
  {
   "cell_type": "markdown",
   "metadata": {},
   "source": [
    "14.Visualize project distrubution of employees in the company"
   ]
  },
  {
   "cell_type": "code",
   "execution_count": 45,
   "metadata": {},
   "outputs": [
    {
     "data": {
      "text/plain": [
       "<Axes: >"
      ]
     },
     "execution_count": 45,
     "metadata": {},
     "output_type": "execute_result"
    },
    {
     "data": {
      "image/png": "[encoded data removed]",
      "text/plain": [
       "<Figure size 640x480 with 1 Axes>"
      ]
     },
     "metadata": {},
     "output_type": "display_data"
    }
   ],
   "source": [
    "df['Projects_Handled'].hist(bins=10)"
   ]
  },
  {
   "cell_type": "markdown",
   "metadata": {},
   "source": [
    "This the visualization of project distrubution of employees in the company by using graphical representation"
   ]
  },
  {
   "cell_type": "markdown",
   "metadata": {},
   "source": [
    "15.Find the average overtime by department"
   ]
  },
  {
   "cell_type": "code",
   "execution_count": 46,
   "metadata": {},
   "outputs": [
    {
     "data": {
      "text/plain": [
       "Department\n",
       "Customer Support    14.383951\n",
       "Engineering         14.593282\n",
       "Finance             14.344911\n",
       "HR                  14.577099\n",
       "IT                  14.672716\n",
       "Legal               14.548390\n",
       "Marketing           14.482792\n",
       "Operations          14.520794\n",
       "Sales               14.513757\n",
       "Name: Overtime_Hours, dtype: float64"
      ]
     },
     "execution_count": 46,
     "metadata": {},
     "output_type": "execute_result"
    }
   ],
   "source": [
    "df.groupby('Department')['Overtime_Hours'].mean()"
   ]
  },
  {
   "cell_type": "markdown",
   "metadata": {},
   "source": [
    "This is the average overtime done by the employees in different departments in the company"
   ]
  },
  {
   "cell_type": "markdown",
   "metadata": {},
   "source": [
    "15.Total number and details of the employees who has never taken a sick leave"
   ]
  },
  {
   "cell_type": "code",
   "execution_count": 47,
   "metadata": {},
   "outputs": [
    {
     "name": "stdout",
     "output_type": "stream",
     "text": [
      "Number of employees with no sick leaves: 6715\n",
      "       Employee_ID        Department  Gender  Age   Job_Title  \\\n",
      "5                6                IT    Male   43     Manager   \n",
      "10              11  Customer Support    Male   52    Engineer   \n",
      "62              63             Sales    Male   27     Manager   \n",
      "66              67             Sales    Male   49     Manager   \n",
      "76              77  Customer Support    Male   31  Technician   \n",
      "...            ...               ...     ...  ...         ...   \n",
      "99916        99917             Sales  Female   27   Developer   \n",
      "99924        99925                HR    Male   56  Specialist   \n",
      "99947        99948  Customer Support    Male   53  Specialist   \n",
      "99992        99993             Legal  Female   38  Consultant   \n",
      "99996        99997                IT  Female   36  Consultant   \n",
      "\n",
      "                       Hire_Date  Years_At_Company Education_Level  \\\n",
      "5     2016-08-14 08:03:05.556036                 8     High School   \n",
      "10    2019-11-26 08:03:05.556036                 4        Bachelor   \n",
      "62    2018-05-23 08:03:05.556036                 6        Bachelor   \n",
      "66    2017-01-03 08:03:05.556036                 7          Master   \n",
      "76    2017-05-24 08:03:05.556036                 7             PhD   \n",
      "...                          ...               ...             ...   \n",
      "99916 2020-09-15 08:03:05.556036                 3        Bachelor   \n",
      "99924 2023-05-05 08:03:05.556036                 1        Bachelor   \n",
      "99947 2016-01-04 08:03:05.556036                 8        Bachelor   \n",
      "99992 2022-09-02 08:03:05.556036                 2        Bachelor   \n",
      "99996 2018-07-24 08:03:05.556036                 6          Master   \n",
      "\n",
      "       Performance_Score  Monthly_Salary  Work_Hours_Per_Week  \\\n",
      "5                      3          7800.0                   46   \n",
      "10                     3          7800.0                   38   \n",
      "62                     3          7800.0                   44   \n",
      "66                     2          7200.0                   55   \n",
      "76                     3          4550.0                   32   \n",
      "...                  ...             ...                  ...   \n",
      "99916                  4          7000.0                   53   \n",
      "99924                  4          6300.0                   59   \n",
      "99947                  1          4950.0                   58   \n",
      "99992                  5          8250.0                   42   \n",
      "99996                  5          8250.0                   39   \n",
      "\n",
      "       Projects_Handled  Overtime_Hours  Sick_Days  Remote_Work_Frequency  \\\n",
      "5                    31               8          0                    100   \n",
      "10                    1               5          0                     25   \n",
      "62                   29              12          0                     75   \n",
      "66                   30              19          0                     75   \n",
      "76                   46              19          0                     50   \n",
      "...                 ...             ...        ...                    ...   \n",
      "99916                13              28          0                     25   \n",
      "99924                11              17          0                      0   \n",
      "99947                26              14          0                      0   \n",
      "99992                17               3          0                      0   \n",
      "99996                35               7          0                      0   \n",
      "\n",
      "       Team_Size  Training_Hours  Promotions  Employee_Satisfaction_Score  \\\n",
      "5             15              95           0                         2.77   \n",
      "10             4              90           1                         2.34   \n",
      "62            18              73           1                         2.26   \n",
      "66            19              93           0                         4.26   \n",
      "76            19              82           0                         3.20   \n",
      "...          ...             ...         ...                          ...   \n",
      "99916         14              85           0                         1.13   \n",
      "99924          1              12           1                         3.24   \n",
      "99947         15              40           0                         1.59   \n",
      "99992         12              29           0                         4.21   \n",
      "99996         10              77           1                         3.48   \n",
      "\n",
      "       Resigned  \n",
      "5         False  \n",
      "10        False  \n",
      "62        False  \n",
      "66        False  \n",
      "76        False  \n",
      "...         ...  \n",
      "99916     False  \n",
      "99924     False  \n",
      "99947     False  \n",
      "99992     False  \n",
      "99996      True  \n",
      "\n",
      "[6715 rows x 20 columns]\n"
     ]
    }
   ],
   "source": [
    "df['Sick_Days'] = pd.to_numeric(df['Sick_Days'])\n",
    "no_sick_leave_employees = df[df['Sick_Days'] == 0]\n",
    "num_no_sick_leave_employees = len(no_sick_leave_employees)\n",
    "print(f\"Number of employees with no sick leaves: {num_no_sick_leave_employees}\")\n",
    "print(no_sick_leave_employees)"
   ]
  },
  {
   "cell_type": "markdown",
   "metadata": {},
   "source": [
    "Number of employees who has never taken a sick leave : 6715"
   ]
  },
  {
   "cell_type": "markdown",
   "metadata": {},
   "source": [
    "16.Find out the departmental health trends in the company"
   ]
  },
  {
   "cell_type": "code",
   "execution_count": 48,
   "metadata": {},
   "outputs": [
    {
     "data": {
      "text/plain": [
       "<Axes: ylabel='Sick_Days'>"
      ]
     },
     "execution_count": 48,
     "metadata": {},
     "output_type": "execute_result"
    },
    {
     "data": {
      "image/png": "[encoded data removed]",
      "text/plain": [
       "<Figure size 640x480 with 1 Axes>"
      ]
     },
     "metadata": {},
     "output_type": "display_data"
    }
   ],
   "source": [
    "df.groupby('Department')['Sick_Days'].sum().plot(kind='pie', autopct='%1.1f%%')"
   ]
  },
  {
   "cell_type": "markdown",
   "metadata": {},
   "source": [
    "This is the graphical representation of departmental health trends in the company"
   ]
  },
  {
   "cell_type": "markdown",
   "metadata": {},
   "source": [
    "17.Analyse the employees in the company by thier training hours"
   ]
  },
  {
   "cell_type": "code",
   "execution_count": 49,
   "metadata": {},
   "outputs": [
    {
     "name": "stdout",
     "output_type": "stream",
     "text": [
      "count    100000.000000\n",
      "mean         49.506060\n",
      "std          28.890383\n",
      "min           0.000000\n",
      "25%          25.000000\n",
      "50%          49.000000\n",
      "75%          75.000000\n",
      "max          99.000000\n",
      "Name: Training_Hours, dtype: float64\n"
     ]
    },
    {
     "data": {
      "image/png": "[encoded data removed]",
      "text/plain": [
       "<Figure size 1000x600 with 1 Axes>"
      ]
     },
     "metadata": {},
     "output_type": "display_data"
    }
   ],
   "source": [
    "df['Training_Hours'] = pd.to_numeric(df['Training_Hours'])\n",
    "summary_stats = df['Training_Hours'].describe()\n",
    "print(summary_stats)\n",
    "\n",
    "import matplotlib.pyplot as plt\n",
    "plt.figure(figsize=(10, 6))\n",
    "df['Training_Hours'].hist(bins=10)\n",
    "plt.title('Training Hours Distribution')\n",
    "plt.xlabel('Training Hours')\n",
    "plt.ylabel('Frequency')\n",
    "plt.show()\n"
   ]
  },
  {
   "cell_type": "markdown",
   "metadata": {},
   "source": [
    "This is the analysation of employees in the company according to their training hours"
   ]
  },
  {
   "cell_type": "markdown",
   "metadata": {},
   "source": [
    "18.Find out the correlation between training hours and perfomance"
   ]
  },
  {
   "cell_type": "code",
   "execution_count": 50,
   "metadata": {},
   "outputs": [
    {
     "data": {
      "text/plain": [
       "np.float64(0.00235794005859699)"
      ]
     },
     "execution_count": 50,
     "metadata": {},
     "output_type": "execute_result"
    }
   ],
   "source": [
    "df['Training_Hours'].corr(df['Performance_Score'])"
   ]
  },
  {
   "cell_type": "markdown",
   "metadata": {},
   "source": [
    "19.Find the deails of employees who requires additional training"
   ]
  },
  {
   "cell_type": "code",
   "execution_count": 51,
   "metadata": {},
   "outputs": [
    {
     "data": {
      "text/html": [
       "<div>\n",
       "<style scoped>\n",
       "    .dataframe tbody tr th:only-of-type {\n",
       "        vertical-align: middle;\n",
       "    }\n",
       "\n",
       "    .dataframe tbody tr th {\n",
       "        vertical-align: top;\n",
       "    }\n",
       "\n",
       "    .dataframe thead th {\n",
       "        text-align: right;\n",
       "    }\n",
       "</style>\n",
       "<table border=\"1\" class=\"dataframe\">\n",
       "  <thead>\n",
       "    <tr style=\"text-align: right;\">\n",
       "      <th></th>\n",
       "      <th>Employee_ID</th>\n",
       "      <th>Department</th>\n",
       "      <th>Gender</th>\n",
       "      <th>Age</th>\n",
       "      <th>Job_Title</th>\n",
       "      <th>Hire_Date</th>\n",
       "      <th>Years_At_Company</th>\n",
       "      <th>Education_Level</th>\n",
       "      <th>Performance_Score</th>\n",
       "      <th>Monthly_Salary</th>\n",
       "      <th>Work_Hours_Per_Week</th>\n",
       "      <th>Projects_Handled</th>\n",
       "      <th>Overtime_Hours</th>\n",
       "      <th>Sick_Days</th>\n",
       "      <th>Remote_Work_Frequency</th>\n",
       "      <th>Team_Size</th>\n",
       "      <th>Training_Hours</th>\n",
       "      <th>Promotions</th>\n",
       "      <th>Employee_Satisfaction_Score</th>\n",
       "      <th>Resigned</th>\n",
       "    </tr>\n",
       "  </thead>\n",
       "  <tbody>\n",
       "    <tr>\n",
       "      <th>2</th>\n",
       "      <td>3</td>\n",
       "      <td>Finance</td>\n",
       "      <td>Male</td>\n",
       "      <td>55</td>\n",
       "      <td>Specialist</td>\n",
       "      <td>2015-10-26 08:03:05.556036</td>\n",
       "      <td>8</td>\n",
       "      <td>High School</td>\n",
       "      <td>3</td>\n",
       "      <td>5850.0</td>\n",
       "      <td>37</td>\n",
       "      <td>27</td>\n",
       "      <td>6</td>\n",
       "      <td>3</td>\n",
       "      <td>50</td>\n",
       "      <td>10</td>\n",
       "      <td>1</td>\n",
       "      <td>0</td>\n",
       "      <td>3.17</td>\n",
       "      <td>False</td>\n",
       "    </tr>\n",
       "    <tr>\n",
       "      <th>3</th>\n",
       "      <td>4</td>\n",
       "      <td>Customer Support</td>\n",
       "      <td>Female</td>\n",
       "      <td>48</td>\n",
       "      <td>Analyst</td>\n",
       "      <td>2016-10-22 08:03:05.556036</td>\n",
       "      <td>7</td>\n",
       "      <td>Bachelor</td>\n",
       "      <td>2</td>\n",
       "      <td>4800.0</td>\n",
       "      <td>52</td>\n",
       "      <td>10</td>\n",
       "      <td>28</td>\n",
       "      <td>12</td>\n",
       "      <td>100</td>\n",
       "      <td>10</td>\n",
       "      <td>0</td>\n",
       "      <td>1</td>\n",
       "      <td>1.86</td>\n",
       "      <td>False</td>\n",
       "    </tr>\n",
       "    <tr>\n",
       "      <th>4</th>\n",
       "      <td>5</td>\n",
       "      <td>Engineering</td>\n",
       "      <td>Female</td>\n",
       "      <td>36</td>\n",
       "      <td>Analyst</td>\n",
       "      <td>2021-07-23 08:03:05.556036</td>\n",
       "      <td>3</td>\n",
       "      <td>Bachelor</td>\n",
       "      <td>2</td>\n",
       "      <td>4800.0</td>\n",
       "      <td>38</td>\n",
       "      <td>11</td>\n",
       "      <td>29</td>\n",
       "      <td>13</td>\n",
       "      <td>100</td>\n",
       "      <td>15</td>\n",
       "      <td>9</td>\n",
       "      <td>1</td>\n",
       "      <td>1.25</td>\n",
       "      <td>False</td>\n",
       "    </tr>\n",
       "    <tr>\n",
       "      <th>8</th>\n",
       "      <td>9</td>\n",
       "      <td>Marketing</td>\n",
       "      <td>Female</td>\n",
       "      <td>55</td>\n",
       "      <td>Technician</td>\n",
       "      <td>2023-06-29 08:03:05.556036</td>\n",
       "      <td>1</td>\n",
       "      <td>High School</td>\n",
       "      <td>2</td>\n",
       "      <td>4200.0</td>\n",
       "      <td>51</td>\n",
       "      <td>23</td>\n",
       "      <td>21</td>\n",
       "      <td>14</td>\n",
       "      <td>0</td>\n",
       "      <td>1</td>\n",
       "      <td>0</td>\n",
       "      <td>1</td>\n",
       "      <td>1.44</td>\n",
       "      <td>False</td>\n",
       "    </tr>\n",
       "    <tr>\n",
       "      <th>12</th>\n",
       "      <td>13</td>\n",
       "      <td>HR</td>\n",
       "      <td>Male</td>\n",
       "      <td>51</td>\n",
       "      <td>Technician</td>\n",
       "      <td>2019-07-04 08:03:05.556036</td>\n",
       "      <td>5</td>\n",
       "      <td>Bachelor</td>\n",
       "      <td>4</td>\n",
       "      <td>4900.0</td>\n",
       "      <td>31</td>\n",
       "      <td>11</td>\n",
       "      <td>16</td>\n",
       "      <td>1</td>\n",
       "      <td>75</td>\n",
       "      <td>7</td>\n",
       "      <td>17</td>\n",
       "      <td>2</td>\n",
       "      <td>2.13</td>\n",
       "      <td>False</td>\n",
       "    </tr>\n",
       "    <tr>\n",
       "      <th>...</th>\n",
       "      <td>...</td>\n",
       "      <td>...</td>\n",
       "      <td>...</td>\n",
       "      <td>...</td>\n",
       "      <td>...</td>\n",
       "      <td>...</td>\n",
       "      <td>...</td>\n",
       "      <td>...</td>\n",
       "      <td>...</td>\n",
       "      <td>...</td>\n",
       "      <td>...</td>\n",
       "      <td>...</td>\n",
       "      <td>...</td>\n",
       "      <td>...</td>\n",
       "      <td>...</td>\n",
       "      <td>...</td>\n",
       "      <td>...</td>\n",
       "      <td>...</td>\n",
       "      <td>...</td>\n",
       "      <td>...</td>\n",
       "    </tr>\n",
       "    <tr>\n",
       "      <th>99962</th>\n",
       "      <td>99963</td>\n",
       "      <td>Finance</td>\n",
       "      <td>Male</td>\n",
       "      <td>52</td>\n",
       "      <td>Consultant</td>\n",
       "      <td>2017-07-13 08:03:05.556036</td>\n",
       "      <td>7</td>\n",
       "      <td>Master</td>\n",
       "      <td>2</td>\n",
       "      <td>6600.0</td>\n",
       "      <td>33</td>\n",
       "      <td>48</td>\n",
       "      <td>5</td>\n",
       "      <td>1</td>\n",
       "      <td>75</td>\n",
       "      <td>12</td>\n",
       "      <td>16</td>\n",
       "      <td>1</td>\n",
       "      <td>1.57</td>\n",
       "      <td>False</td>\n",
       "    </tr>\n",
       "    <tr>\n",
       "      <th>99963</th>\n",
       "      <td>99964</td>\n",
       "      <td>Legal</td>\n",
       "      <td>Male</td>\n",
       "      <td>59</td>\n",
       "      <td>Specialist</td>\n",
       "      <td>2017-04-18 08:03:05.556036</td>\n",
       "      <td>7</td>\n",
       "      <td>Master</td>\n",
       "      <td>2</td>\n",
       "      <td>5400.0</td>\n",
       "      <td>33</td>\n",
       "      <td>20</td>\n",
       "      <td>11</td>\n",
       "      <td>2</td>\n",
       "      <td>100</td>\n",
       "      <td>14</td>\n",
       "      <td>6</td>\n",
       "      <td>0</td>\n",
       "      <td>3.75</td>\n",
       "      <td>False</td>\n",
       "    </tr>\n",
       "    <tr>\n",
       "      <th>99970</th>\n",
       "      <td>99971</td>\n",
       "      <td>Marketing</td>\n",
       "      <td>Male</td>\n",
       "      <td>42</td>\n",
       "      <td>Manager</td>\n",
       "      <td>2014-10-04 08:03:05.556036</td>\n",
       "      <td>9</td>\n",
       "      <td>Bachelor</td>\n",
       "      <td>2</td>\n",
       "      <td>7200.0</td>\n",
       "      <td>36</td>\n",
       "      <td>6</td>\n",
       "      <td>16</td>\n",
       "      <td>6</td>\n",
       "      <td>50</td>\n",
       "      <td>16</td>\n",
       "      <td>16</td>\n",
       "      <td>1</td>\n",
       "      <td>4.20</td>\n",
       "      <td>False</td>\n",
       "    </tr>\n",
       "    <tr>\n",
       "      <th>99973</th>\n",
       "      <td>99974</td>\n",
       "      <td>Engineering</td>\n",
       "      <td>Male</td>\n",
       "      <td>40</td>\n",
       "      <td>Analyst</td>\n",
       "      <td>2024-07-15 08:03:05.556036</td>\n",
       "      <td>0</td>\n",
       "      <td>Bachelor</td>\n",
       "      <td>1</td>\n",
       "      <td>4400.0</td>\n",
       "      <td>47</td>\n",
       "      <td>47</td>\n",
       "      <td>3</td>\n",
       "      <td>8</td>\n",
       "      <td>50</td>\n",
       "      <td>15</td>\n",
       "      <td>9</td>\n",
       "      <td>1</td>\n",
       "      <td>3.92</td>\n",
       "      <td>False</td>\n",
       "    </tr>\n",
       "    <tr>\n",
       "      <th>99975</th>\n",
       "      <td>99976</td>\n",
       "      <td>Finance</td>\n",
       "      <td>Female</td>\n",
       "      <td>39</td>\n",
       "      <td>Engineer</td>\n",
       "      <td>2022-12-13 08:03:05.556036</td>\n",
       "      <td>1</td>\n",
       "      <td>High School</td>\n",
       "      <td>1</td>\n",
       "      <td>6600.0</td>\n",
       "      <td>48</td>\n",
       "      <td>35</td>\n",
       "      <td>28</td>\n",
       "      <td>4</td>\n",
       "      <td>25</td>\n",
       "      <td>19</td>\n",
       "      <td>16</td>\n",
       "      <td>0</td>\n",
       "      <td>4.48</td>\n",
       "      <td>False</td>\n",
       "    </tr>\n",
       "  </tbody>\n",
       "</table>\n",
       "<p>20053 rows × 20 columns</p>\n",
       "</div>"
      ],
      "text/plain": [
       "       Employee_ID        Department  Gender  Age   Job_Title  \\\n",
       "2                3           Finance    Male   55  Specialist   \n",
       "3                4  Customer Support  Female   48     Analyst   \n",
       "4                5       Engineering  Female   36     Analyst   \n",
       "8                9         Marketing  Female   55  Technician   \n",
       "12              13                HR    Male   51  Technician   \n",
       "...            ...               ...     ...  ...         ...   \n",
       "99962        99963           Finance    Male   52  Consultant   \n",
       "99963        99964             Legal    Male   59  Specialist   \n",
       "99970        99971         Marketing    Male   42     Manager   \n",
       "99973        99974       Engineering    Male   40     Analyst   \n",
       "99975        99976           Finance  Female   39    Engineer   \n",
       "\n",
       "                       Hire_Date  Years_At_Company Education_Level  \\\n",
       "2     2015-10-26 08:03:05.556036                 8     High School   \n",
       "3     2016-10-22 08:03:05.556036                 7        Bachelor   \n",
       "4     2021-07-23 08:03:05.556036                 3        Bachelor   \n",
       "8     2023-06-29 08:03:05.556036                 1     High School   \n",
       "12    2019-07-04 08:03:05.556036                 5        Bachelor   \n",
       "...                          ...               ...             ...   \n",
       "99962 2017-07-13 08:03:05.556036                 7          Master   \n",
       "99963 2017-04-18 08:03:05.556036                 7          Master   \n",
       "99970 2014-10-04 08:03:05.556036                 9        Bachelor   \n",
       "99973 2024-07-15 08:03:05.556036                 0        Bachelor   \n",
       "99975 2022-12-13 08:03:05.556036                 1     High School   \n",
       "\n",
       "       Performance_Score  Monthly_Salary  Work_Hours_Per_Week  \\\n",
       "2                      3          5850.0                   37   \n",
       "3                      2          4800.0                   52   \n",
       "4                      2          4800.0                   38   \n",
       "8                      2          4200.0                   51   \n",
       "12                     4          4900.0                   31   \n",
       "...                  ...             ...                  ...   \n",
       "99962                  2          6600.0                   33   \n",
       "99963                  2          5400.0                   33   \n",
       "99970                  2          7200.0                   36   \n",
       "99973                  1          4400.0                   47   \n",
       "99975                  1          6600.0                   48   \n",
       "\n",
       "       Projects_Handled  Overtime_Hours  Sick_Days  Remote_Work_Frequency  \\\n",
       "2                    27               6          3                     50   \n",
       "3                    10              28         12                    100   \n",
       "4                    11              29         13                    100   \n",
       "8                    23              21         14                      0   \n",
       "12                   11              16          1                     75   \n",
       "...                 ...             ...        ...                    ...   \n",
       "99962                48               5          1                     75   \n",
       "99963                20              11          2                    100   \n",
       "99970                 6              16          6                     50   \n",
       "99973                47               3          8                     50   \n",
       "99975                35              28          4                     25   \n",
       "\n",
       "       Team_Size  Training_Hours  Promotions  Employee_Satisfaction_Score  \\\n",
       "2             10               1           0                         3.17   \n",
       "3             10               0           1                         1.86   \n",
       "4             15               9           1                         1.25   \n",
       "8              1               0           1                         1.44   \n",
       "12             7              17           2                         2.13   \n",
       "...          ...             ...         ...                          ...   \n",
       "99962         12              16           1                         1.57   \n",
       "99963         14               6           0                         3.75   \n",
       "99970         16              16           1                         4.20   \n",
       "99973         15               9           1                         3.92   \n",
       "99975         19              16           0                         4.48   \n",
       "\n",
       "       Resigned  \n",
       "2         False  \n",
       "3         False  \n",
       "4         False  \n",
       "8         False  \n",
       "12        False  \n",
       "...         ...  \n",
       "99962     False  \n",
       "99963     False  \n",
       "99970     False  \n",
       "99973     False  \n",
       "99975     False  \n",
       "\n",
       "[20053 rows x 20 columns]"
      ]
     },
     "execution_count": 51,
     "metadata": {},
     "output_type": "execute_result"
    }
   ],
   "source": [
    "df[df['Training_Hours'] < 20]"
   ]
  },
  {
   "cell_type": "markdown",
   "metadata": {},
   "source": [
    "These are the employees who requires additional training in the different sectors in the company"
   ]
  },
  {
   "cell_type": "markdown",
   "metadata": {},
   "source": [
    "20.Analyse the employees by the promotions in the company"
   ]
  },
  {
   "cell_type": "code",
   "execution_count": 52,
   "metadata": {},
   "outputs": [
    {
     "data": {
      "image/png": "[encoded data removed]",
      "text/plain": [
       "<Figure size 1000x600 with 1 Axes>"
      ]
     },
     "metadata": {},
     "output_type": "display_data"
    }
   ],
   "source": [
    "df_2=df['Promotions'] = pd.to_numeric(df['Promotions'])\n",
    "summary_stats = df['Promotions'].describe()\n",
    "\n",
    "import matplotlib.pyplot as plt\n",
    "plt.figure(figsize=(10, 6))\n",
    "df['Promotions'].hist(bins=10)\n",
    "plt.title('Promotion Distribution')\n",
    "plt.xlabel('Number of Promotions')\n",
    "plt.ylabel('Frequency')\n",
    "plt.show()"
   ]
  },
  {
   "cell_type": "markdown",
   "metadata": {},
   "source": [
    "This is the promotion distrubution graph of employees in the company"
   ]
  },
  {
   "cell_type": "markdown",
   "metadata": {},
   "source": [
    "21.Find the number of promotions by job title"
   ]
  },
  {
   "cell_type": "code",
   "execution_count": 53,
   "metadata": {},
   "outputs": [
    {
     "data": {
      "text/plain": [
       "Job_Title\n",
       "Analyst       14270\n",
       "Consultant    14117\n",
       "Developer     14137\n",
       "Engineer      14225\n",
       "Manager       14418\n",
       "Specialist    14491\n",
       "Technician    14314\n",
       "Name: Promotions, dtype: int64"
      ]
     },
     "execution_count": 53,
     "metadata": {},
     "output_type": "execute_result"
    }
   ],
   "source": [
    "df.groupby('Job_Title')['Promotions'].sum()"
   ]
  },
  {
   "cell_type": "markdown",
   "metadata": {},
   "source": [
    "By considering the number of promotions by job title \"Analyst\" secured the topmost position with 14270 promotions"
   ]
  },
  {
   "cell_type": "markdown",
   "metadata": {},
   "source": [
    "22.Find the details and total number of employees resigned"
   ]
  },
  {
   "cell_type": "code",
   "execution_count": 54,
   "metadata": {},
   "outputs": [
    {
     "name": "stdout",
     "output_type": "stream",
     "text": [
      "       Employee_ID        Department  Gender  Age   Job_Title  \\\n",
      "27              28             Legal    Male   43     Manager   \n",
      "40              41                HR  Female   44     Analyst   \n",
      "54              55        Operations  Female   34  Technician   \n",
      "56              57  Customer Support  Female   33  Specialist   \n",
      "58              59                IT   Other   52  Technician   \n",
      "...            ...               ...     ...  ...         ...   \n",
      "99935        99936  Customer Support  Female   38  Technician   \n",
      "99949        99950        Operations  Female   46  Specialist   \n",
      "99950        99951                HR    Male   27  Consultant   \n",
      "99991        99992       Engineering    Male   55    Engineer   \n",
      "99996        99997                IT  Female   36  Consultant   \n",
      "\n",
      "                       Hire_Date  Years_At_Company Education_Level  \\\n",
      "27    2014-11-22 08:03:05.556036                 9          Master   \n",
      "40    2020-12-25 08:03:05.556036                 3        Bachelor   \n",
      "54    2015-08-15 08:03:05.556036                 9     High School   \n",
      "56    2016-04-17 08:03:05.556036                 8             PhD   \n",
      "58    2024-07-03 08:03:05.556036                 0     High School   \n",
      "...                          ...               ...             ...   \n",
      "99935 2016-05-28 08:03:05.556036                 8        Bachelor   \n",
      "99949 2019-03-12 08:03:05.556036                 5          Master   \n",
      "99950 2020-03-30 08:03:05.556036                 4        Bachelor   \n",
      "99991 2016-04-10 08:03:05.556036                 8        Bachelor   \n",
      "99996 2018-07-24 08:03:05.556036                 6          Master   \n",
      "\n",
      "       Performance_Score  Monthly_Salary  Work_Hours_Per_Week  \\\n",
      "27                     3          7800.0                   44   \n",
      "40                     2          4800.0                   59   \n",
      "54                     5          5250.0                   32   \n",
      "56                     1          4950.0                   33   \n",
      "58                     3          4550.0                   53   \n",
      "...                  ...             ...                  ...   \n",
      "99935                  1          3850.0                   52   \n",
      "99949                  2          5400.0                   44   \n",
      "99950                  3          7150.0                   59   \n",
      "99991                  3          7800.0                   37   \n",
      "99996                  5          8250.0                   39   \n",
      "\n",
      "       Projects_Handled  Overtime_Hours  Sick_Days  Remote_Work_Frequency  \\\n",
      "27                   42               3         10                     75   \n",
      "40                   45               9         13                      0   \n",
      "54                   26               6          6                     25   \n",
      "56                   46              28          8                     75   \n",
      "58                    7               5          2                     25   \n",
      "...                 ...             ...        ...                    ...   \n",
      "99935                24              17         12                     50   \n",
      "99949                16              29          2                    100   \n",
      "99950                37              29         12                      0   \n",
      "99991                16              14          3                     25   \n",
      "99996                35               7          0                      0   \n",
      "\n",
      "       Team_Size  Training_Hours  Promotions  Employee_Satisfaction_Score  \\\n",
      "27             4              45           2                         1.35   \n",
      "40            16              28           2                         2.90   \n",
      "54             3              68           1                         1.87   \n",
      "56             1              36           2                         2.64   \n",
      "58            12              74           2                         4.23   \n",
      "...          ...             ...         ...                          ...   \n",
      "99935         19               2           2                         2.12   \n",
      "99949          2              33           0                         2.84   \n",
      "99950          4              37           1                         2.44   \n",
      "99991          5              98           0                         1.48   \n",
      "99996         10              77           1                         3.48   \n",
      "\n",
      "       Resigned  \n",
      "27         True  \n",
      "40         True  \n",
      "54         True  \n",
      "56         True  \n",
      "58         True  \n",
      "...         ...  \n",
      "99935      True  \n",
      "99949      True  \n",
      "99950      True  \n",
      "99991      True  \n",
      "99996      True  \n",
      "\n",
      "[10010 rows x 20 columns]\n",
      "Number of resigned employees: 10010\n"
     ]
    }
   ],
   "source": [
    "resigned_employees = df[df['Resigned'] == True]\n",
    "print(resigned_employees)\n",
    "num_resigned_employees = len(resigned_employees)\n",
    "print(f\"Number of resigned employees: {num_resigned_employees}\")"
   ]
  },
  {
   "cell_type": "markdown",
   "metadata": {},
   "source": [
    "There are 10010 employees resigned in the company and this are their details"
   ]
  },
  {
   "cell_type": "markdown",
   "metadata": {},
   "source": [
    "## Conclusion"
   ]
  },
  {
   "cell_type": "markdown",
   "metadata": {},
   "source": [
    "In conclusion, this exploratory data analysis utilizing Pandas yielded significant insights into the employee dataset. The findings underscore the importance of data-driven decision-making in optimizing workforce development, employee satisfaction, and organizational performance. "
   ]
  }
 ],
 "metadata": {
  "kernelspec": {
   "display_name": "Python 3",
   "language": "python",
   "name": "python3"
  },
  "language_info": {
   "codemirror_mode": {
    "name": "ipython",
    "version": 3
   },
   "file_extension": ".py",
   "mimetype": "text/x-python",
   "name": "python",
   "nbconvert_exporter": "python",
   "pygments_lexer": "ipython3",
   "version": "3.11.9"
  }
 },
 "nbformat": 4,
 "nbformat_minor": 2
}
